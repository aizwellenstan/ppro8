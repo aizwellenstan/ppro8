{
 "cells": [
  {
   "cell_type": "code",
   "execution_count": 2,
   "metadata": {
    "collapsed": true
   },
   "outputs": [],
   "source": [
    "import pandas as pd\n",
    "import numpy as np\n",
    "import datetime as dt\n",
    "from datetime import date\n",
    "import os\n",
    "from datetime import datetime\n",
    "import urllib2"
   ]
  },
  {
   "cell_type": "code",
   "execution_count": 3,
   "metadata": {
    "collapsed": false
   },
   "outputs": [],
   "source": [
    "df = pd.read_csv('C://Users//User//ppro8//3961//04102016.csv')\n",
    "recent_price = df['price'][-100:].tolist()"
   ]
  },
  {
   "cell_type": "code",
   "execution_count": 4,
   "metadata": {
    "collapsed": true
   },
   "outputs": [],
   "source": [
    "def get_price(symbol):\n",
    "    url = 'http://localhost:2628/GetLv1?symbol='+symbol\n",
    "    response = urllib2.urlopen(url)\n",
    "    data = response.read()\n",
    "    price_point = data.find('LastPrice=\"')+len('LastPrice=\"')\n",
    "    price_end = data.find('\"',price_point)\n",
    "    current_price = data[price_point:price_end]\n",
    "    current_price = float(current_price)\n",
    "    \n",
    "    return current_price "
   ]
  },
  {
   "cell_type": "code",
   "execution_count": 5,
   "metadata": {
    "collapsed": false
   },
   "outputs": [],
   "source": [
    "def buy_singal(path,symbol):\n",
    "    df = pd.read_csv(path)\n",
    "    min_price = 0\n",
    "    df_last = df[-30:]\n",
    "    min_price = df_last.price.min()\n",
    "    \n",
    "    current_price = get_price(symbol)\n",
    "       \n",
    "    if min_price == current_price:\n",
    "        recent_price = df['price'][-30:].tolist()\n",
    "        if recent_price.count(min_price) > 5: \n",
    "            return True, min_price"
   ]
  },
  {
   "cell_type": "code",
   "execution_count": 6,
   "metadata": {
    "collapsed": false
   },
   "outputs": [],
   "source": [
    "def buy(path,symbol):\n",
    "    if buy_singal(path,symbol) == None:\n",
    "        pass\n",
    "    else:\n",
    "        signal, buy_price = buy_singal(path,symbol)\n",
    "        price = str(buy_price)\n",
    "        if signal == True:\n",
    "                url = 'http://localhost:2628/ExecuteOrder?symbol='+symbol+'&limitprice='+price+\\\n",
    "                '&ordername=JAPN%20Buy%20TSE%20Limit%20DAY&shares=100'\n",
    "                response = urllib2.urlopen(url)\n",
    "\n",
    "                return buy_price"
   ]
  },
  {
   "cell_type": "code",
   "execution_count": 21,
   "metadata": {
    "collapsed": false
   },
   "outputs": [
    {
     "data": {
      "text/plain": [
       "20"
      ]
     },
     "execution_count": 21,
     "metadata": {},
     "output_type": "execute_result"
    }
   ],
   "source": [
    "price = 0\n",
    "def change():\n",
    "    global price_record\n",
    "    price_record = 20\n",
    "    return price_record\n",
    "change()"
   ]
  },
  {
   "cell_type": "code",
   "execution_count": 25,
   "metadata": {
    "collapsed": false
   },
   "outputs": [
    {
     "data": {
      "text/plain": [
       "40"
      ]
     },
     "execution_count": 25,
     "metadata": {},
     "output_type": "execute_result"
    }
   ],
   "source": [
    "price = 0\n",
    "def sum(x,y):\n",
    "    return x+y\n",
    "\n",
    "def max(x,y):\n",
    "    global price\n",
    "    price = sum(x,y)+10\n",
    "    return price\n",
    "\n",
    "max(20,10)"
   ]
  },
  {
   "cell_type": "code",
   "execution_count": null,
   "metadata": {
    "collapsed": true
   },
   "outputs": [],
   "source": [
    "while True:\n",
    "        while True:\n",
    "            try:\n",
    "                buy('C://Users//User//ppro8//2354//05102016.csv','2354.JP')\n",
    "            except:\n",
    "                pass\n",
    "            else:\n",
    "                break"
   ]
  },
  {
   "cell_type": "code",
   "execution_count": 7,
   "metadata": {
    "collapsed": true
   },
   "outputs": [],
   "source": [
    "def sell(symbol,price):\n",
    "    price = str(price)\n",
    "    url = 'http://localhost:2628/ExecuteOrder?symbol='+symbol+'&limitprice='+price+\\\n",
    "    '&ordername=JAPN%20Sell->Short%20TSE%20Limit%20DAY&shares=100'\n",
    "    response = urllib2.urlopen(url)"
   ]
  },
  {
   "cell_type": "code",
   "execution_count": 8,
   "metadata": {
    "collapsed": true
   },
   "outputs": [],
   "source": [
    "def inventory(symbol):\n",
    "    url = 'http://localhost:2628/GetOpenPositions?user=CHIFCHAN'\n",
    "    response = urllib2.urlopen(url)\n",
    "    data = response.read()\n",
    "    if data.find(symbol) ==-1:\n",
    "        return False\n",
    "    else:\n",
    "        return True"
   ]
  },
  {
   "cell_type": "code",
   "execution_count": null,
   "metadata": {
    "collapsed": false
   },
   "outputs": [],
   "source": [
    "price_record = 0\n",
    "def trade(path,symbol):\n",
    "    if inventory(symbol) == False:\n",
    "        global price_record\n",
    "        price_record = buy(path,symbol)\n",
    "            \n",
    "    if inventory == True:\n",
    "        current_price = get_price(symbol)\n",
    "        if price_record*0.995 >= current_price:\n",
    "            sell(symbol,current_price)\n",
    "        elif price_record*1.005 <= current_price:\n",
    "            sell(symbol,current_price)"
   ]
  },
  {
   "cell_type": "code",
   "execution_count": 13,
   "metadata": {
    "collapsed": true
   },
   "outputs": [],
   "source": [
    "current_price = get_price('2354.JP')\n",
    "price_record = 795\n",
    "if price_record*0.995 >= current_price:\n",
    "    sell('2354.JP',current_price)"
   ]
  },
  {
   "cell_type": "code",
   "execution_count": null,
   "metadata": {
    "collapsed": false
   },
   "outputs": [],
   "source": [
    "while True:\n",
    "        while True:\n",
    "            try:\n",
    "                price_record = 795\n",
    "                trade('C://Users//User//ppro8//2354//05102016.csv','2354.JP')\n",
    "            except:\n",
    "                pass\n",
    "            else:\n",
    "                break"
   ]
  },
  {
   "cell_type": "code",
   "execution_count": 9,
   "metadata": {
    "collapsed": false
   },
   "outputs": [],
   "source": [
    "trade('C://Users//User//ppro8//2354//05102016.csv','2354.JP')"
   ]
  },
  {
   "cell_type": "code",
   "execution_count": 16,
   "metadata": {
    "collapsed": false
   },
   "outputs": [
    {
     "data": {
      "text/plain": [
       "False"
      ]
     },
     "execution_count": 16,
     "metadata": {},
     "output_type": "execute_result"
    }
   ],
   "source": [
    "inventory('2354.JP')"
   ]
  }
 ],
 "metadata": {
  "kernelspec": {
   "display_name": "Python 2",
   "language": "python",
   "name": "python2"
  },
  "language_info": {
   "codemirror_mode": {
    "name": "ipython",
    "version": 2
   },
   "file_extension": ".py",
   "mimetype": "text/x-python",
   "name": "python",
   "nbconvert_exporter": "python",
   "pygments_lexer": "ipython2",
   "version": "2.7.11"
  }
 },
 "nbformat": 4,
 "nbformat_minor": 0
}
