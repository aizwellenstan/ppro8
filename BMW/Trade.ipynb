{
 "cells": [
  {
   "cell_type": "code",
   "execution_count": 1,
   "metadata": {
    "collapsed": true
   },
   "outputs": [],
   "source": [
    "import pandas as pd\n",
    "import numpy as np\n",
    "import datetime as dt\n",
    "from datetime import date\n",
    "import os\n",
    "from datetime import datetime\n",
    "import urllib2"
   ]
  },
  {
   "cell_type": "code",
   "execution_count": 2,
   "metadata": {
    "collapsed": true
   },
   "outputs": [],
   "source": [
    "def get_price(symbol):\n",
    "    url = 'http://localhost:2628/GetLv1?symbol='+symbol\n",
    "    response = urllib2.urlopen(url)\n",
    "    data = response.read()\n",
    "    price_point = data.find('LastPrice=\"')+len('LastPrice=\"')\n",
    "    price_end = data.find('\"',price_point)\n",
    "    current_price = data[price_point:price_end]\n",
    "    current_price = float(current_price)\n",
    "    \n",
    "    return current_price "
   ]
  },
  {
   "cell_type": "code",
   "execution_count": 3,
   "metadata": {
    "collapsed": false
   },
   "outputs": [],
   "source": [
    "def buy_singal(path,symbol):\n",
    "    df = pd.read_csv(path)\n",
    "    min_price = 0\n",
    "    df_last = df[-30:]\n",
    "    min_price = df_last.price.min()\n",
    "    \n",
    "    current_price = get_price(symbol)\n",
    "       \n",
    "    if min_price == current_price:\n",
    "        recent_price = df['price'][-30:].tolist()\n",
    "        if recent_price.count(min_price) > 3: \n",
    "            return True, min_price"
   ]
  },
  {
   "cell_type": "code",
   "execution_count": 5,
   "metadata": {
    "collapsed": false
   },
   "outputs": [],
   "source": [
    "def buy(path,symbol):\n",
    "    if buy_singal(path,symbol) == None:\n",
    "        return price_record\n",
    "        pass\n",
    "    else:\n",
    "        signal, buy_price = buy_singal(path,symbol)\n",
    "        price = str(buy_price)\n",
    "        if signal == True:\n",
    "            url = 'http://localhost:2628/CancelOrder?type=all&symbol=BMW.DE'\n",
    "            response = urllib2.urlopen(url)   \n",
    "            url = 'http://localhost:2628/ExecuteOrder?symbol='+symbol+'&limitprice='+price+\\\n",
    "            '&ordername=BATE%20Buy%20BATEXETRA%20Limit%20DAY&shares=100'\n",
    "            response = urllib2.urlopen(url)\n",
    "            return buy_price\n",
    "        \n",
    "        else:\n",
    "            return price_record"
   ]
  },
  {
   "cell_type": "code",
   "execution_count": 35,
   "metadata": {
    "collapsed": true
   },
   "outputs": [],
   "source": [
    "def sell(symbol,price,volumn):\n",
    "    price = str(price)\n",
    "    url = 'http://localhost:2628/ExecuteOrder?symbol='+symbol+'&limitprice='+price+\\\n",
    "    '&ordername=BATE%20Sell%20BATEXETRA%20Limit%20DAY&shares=' + str(volumn)\n",
    "    response = urllib2.urlopen(url)"
   ]
  },
  {
   "cell_type": "code",
   "execution_count": 36,
   "metadata": {
    "collapsed": true
   },
   "outputs": [],
   "source": [
    "def inventory(symbol):\n",
    "    url = 'http://localhost:2628/GetOpenPositions?user=CHIFCHAN'\n",
    "    response = urllib2.urlopen(url)\n",
    "    data = response.read()\n",
    "    if data.find(symbol) ==-1:\n",
    "        return False\n",
    "    else:\n",
    "        return True"
   ]
  },
  {
   "cell_type": "code",
   "execution_count": 37,
   "metadata": {
    "collapsed": true
   },
   "outputs": [],
   "source": [
    "def volumn(symbol):\n",
    "    url = 'http://localhost:2628/GetOpenPositions?user=CHIFCHAN'\n",
    "    response = urllib2.urlopen(url)\n",
    "    data = response.read()\n",
    "    start = data.find('Volume=\"')+len('Volume=\"')\n",
    "    end = data.find('\" Side')\n",
    "    \n",
    "    return data[start:end]"
   ]
  },
  {
   "cell_type": "code",
   "execution_count": 8,
   "metadata": {
    "collapsed": false
   },
   "outputs": [
    {
     "name": "stdout",
     "output_type": "stream",
     "text": [
      "<Response><Content><Trader id=\"CHIFCHAN\">\n",
      "<Region id=\"1\"></Region>\n",
      "<Region id=\"2\"><Position Symbol=\"BMW.DE\" AssetClass=\"Equity\" Volume=\"90\" Side=\"B\" Account=\"2HONGKROCK60ECHIFCHANEUR1\" />\n",
      "</Region>\n",
      "<Region id=\"3\"></Region>\n",
      "</Trader></Content></Response>\n"
     ]
    }
   ],
   "source": [
    "url = 'http://localhost:2628/GetOpenPositions?user=CHIFCHAN'\n",
    "response = urllib2.urlopen(url)\n",
    "data = response.read()\n",
    "print data"
   ]
  },
  {
   "cell_type": "code",
   "execution_count": 38,
   "metadata": {
    "collapsed": false
   },
   "outputs": [],
   "source": [
    "def trade(path,symbol):\n",
    "    if inventory(symbol) == False:\n",
    "        global price_record\n",
    "        price_record = buy(path,symbol)\n",
    "            \n",
    "    if inventory(symbol) == True:\n",
    "        volumn = volumn(symbol)\n",
    "        current_price = get_price(symbol)\n",
    "        if price_record-0.1 >= current_price:\n",
    "            sell(symbol,current_price,volumn)\n",
    "        elif price_record+0.1 <= current_price:\n",
    "            sell(symbol,current_price,volumn)\n",
    "        else:\n",
    "            pass"
   ]
  },
  {
   "cell_type": "code",
   "execution_count": null,
   "metadata": {
    "collapsed": false
   },
   "outputs": [
    {
     "name": "stdout",
     "output_type": "stream",
     "text": [
      "0\n",
      "0\n",
      "76.08\n",
      "76.08\n",
      "76.08\n",
      "76.08\n",
      "76.08\n",
      "76.08\n",
      "76.08\n",
      "76.08\n",
      "76.08\n",
      "76.08\n",
      "76.08\n",
      "76.08\n",
      "76.08\n",
      "76.08\n",
      "76.08\n"
     ]
    }
   ],
   "source": [
    "price_record = 0\n",
    "while True:\n",
    "        while True:\n",
    "            try:\n",
    "                trade('C://Users//User//ppro8//BMW//13102016.csv','BMW.DE')\n",
    "                if price_record != None:\n",
    "                    print price_record\n",
    "            except:\n",
    "                pass\n",
    "            else:\n",
    "                break"
   ]
  },
  {
   "cell_type": "code",
   "execution_count": 40,
   "metadata": {
    "collapsed": false
   },
   "outputs": [],
   "source": [
    "price_record = 0\n",
    "trade('C://Users//User//ppro8//BMW//13102016.csv','BMW.DE')"
   ]
  }
 ],
 "metadata": {
  "kernelspec": {
   "display_name": "Python 2",
   "language": "python",
   "name": "python2"
  },
  "language_info": {
   "codemirror_mode": {
    "name": "ipython",
    "version": 2
   },
   "file_extension": ".py",
   "mimetype": "text/x-python",
   "name": "python",
   "nbconvert_exporter": "python",
   "pygments_lexer": "ipython2",
   "version": "2.7.11"
  }
 },
 "nbformat": 4,
 "nbformat_minor": 0
}
