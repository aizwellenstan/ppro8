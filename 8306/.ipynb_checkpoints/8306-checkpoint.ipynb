{
 "cells": [
  {
   "cell_type": "code",
   "execution_count": 1,
   "metadata": {
    "collapsed": false
   },
   "outputs": [],
   "source": [
    "import pandas as pd\n",
    "import numpy as np\n",
    "import urllib2\n",
    "import datetime as dt\n",
    "from datetime import date\n",
    "import os\n",
    "from datetime import datetime"
   ]
  },
  {
   "cell_type": "code",
   "execution_count": 2,
   "metadata": {
    "collapsed": false
   },
   "outputs": [
    {
     "name": "stdout",
     "output_type": "stream",
     "text": [
      "06102016\n"
     ]
    }
   ],
   "source": [
    "i = dt.datetime.now()\n",
    "#i = dt.date.today().strftime(\"%B %d, %Y\")\n",
    "date = \"%02d%02d%02d\" % (i.day, i.month, i.year)\n",
    "print date"
   ]
  },
  {
   "cell_type": "code",
   "execution_count": 3,
   "metadata": {
    "collapsed": false
   },
   "outputs": [
    {
     "name": "stdout",
     "output_type": "stream",
     "text": [
      "              time  price\n",
      "0  08:00:00.000001      0\n"
     ]
    }
   ],
   "source": [
    "def create_csv(path):\n",
    "#    path = r'C:\\Users\\User\\ppro8\\0700'\n",
    "    i = dt.datetime.now()\n",
    "    date = \"%02d%02d%02d\" % (i.day, i.month, i.year)\n",
    "    name = date + '.csv'\n",
    "    \n",
    "    time ='08:00:00.000001'\n",
    "    time= dt.datetime.strptime(time, \"%H:%M:%S.%f\").time()\n",
    "    data = {'time': [time],\n",
    "            'price': [0]}\n",
    "\n",
    "    df = pd.DataFrame(data, columns = ['time', 'price'])\n",
    "    df.to_csv(os.path.join(path,name), index=False, cols=['time', 'price'])\n",
    "    print df\n",
    "\n",
    "create_csv('C://Users//User//ppro8//8306')"
   ]
  },
  {
   "cell_type": "code",
   "execution_count": 4,
   "metadata": {
    "collapsed": false
   },
   "outputs": [],
   "source": [
    "def register(symbol,host):\n",
    "    url = 'http://localhost:'+host+\\\n",
    "    '/Register?symbol=' + symbol + '&feedtype=L1'\n",
    "    \n",
    "    urllib2.urlopen(url)\n",
    "    "
   ]
  },
  {
   "cell_type": "code",
   "execution_count": 5,
   "metadata": {
    "collapsed": false
   },
   "outputs": [],
   "source": [
    "def get_price(symbol):\n",
    "    \n",
    "    url = 'http://localhost:2628/GetLv1?symbol='+symbol\n",
    "    response = urllib2.urlopen(url)\n",
    "    data = response.read()\n",
    "    \n",
    "    time_point = data.find('MarketTime=\"')+len('MarketTime=\"')\n",
    "    time = data[time_point:time_point + len('10:39:06.900')]\n",
    "    time = dt.datetime.strptime(time,\"%H:%M:%S.%f\").time()\n",
    "\n",
    "    price_point = data.find('LastPrice=\"')+len('LastPrice=\"')\n",
    "    price_end = data.find('\"',price_point)\n",
    "    price = data[price_point:price_end]\n",
    "\n",
    "    price = float(price)\n",
    "    return time, price"
   ]
  },
  {
   "cell_type": "code",
   "execution_count": 6,
   "metadata": {
    "collapsed": false
   },
   "outputs": [],
   "source": [
    "def add_csv(path,symbol):\n",
    "    i = dt.datetime.now()\n",
    "    date = \"%02d%02d%02d\" % (i.day, i.month, i.year)\n",
    "    date = date +'.csv'\n",
    "    path = path + date\n",
    "    \n",
    "    df = pd.read_csv(path)\n",
    "    \n",
    "    time, price = get_price(symbol)\n",
    "    df.loc[len(df)] = [time,price]\n",
    "    df.to_csv(path, index=False)"
   ]
  },
  {
   "cell_type": "code",
   "execution_count": 7,
   "metadata": {
    "collapsed": true
   },
   "outputs": [],
   "source": [
    "register('8306.JP','2628')"
   ]
  },
  {
   "cell_type": "code",
   "execution_count": 10,
   "metadata": {
    "collapsed": false
   },
   "outputs": [],
   "source": [
    "if (now>=am_open and now<=am_end) or (now>=pm_open and now<=pm_end):\n",
    "    print 'yes'"
   ]
  },
  {
   "cell_type": "code",
   "execution_count": 8,
   "metadata": {
    "collapsed": false,
    "scrolled": true
   },
   "outputs": [
    {
     "ename": "KeyboardInterrupt",
     "evalue": "",
     "output_type": "error",
     "traceback": [
      "\u001b[1;31m---------------------------------------------------------------------------\u001b[0m",
      "\u001b[1;31mKeyboardInterrupt\u001b[0m                         Traceback (most recent call last)",
      "\u001b[1;32m<ipython-input-8-66f493093ab4>\u001b[0m in \u001b[0;36m<module>\u001b[1;34m()\u001b[0m\n\u001b[0;32m     11\u001b[0m \u001b[1;32mwhile\u001b[0m \u001b[0mTrue\u001b[0m\u001b[1;33m:\u001b[0m\u001b[1;33m\u001b[0m\u001b[0m\n\u001b[0;32m     12\u001b[0m     \u001b[0mnow\u001b[0m \u001b[1;33m=\u001b[0m \u001b[0mdt\u001b[0m\u001b[1;33m.\u001b[0m\u001b[0mdatetime\u001b[0m\u001b[1;33m.\u001b[0m\u001b[0mnow\u001b[0m\u001b[1;33m(\u001b[0m\u001b[1;33m)\u001b[0m\u001b[1;33m\u001b[0m\u001b[0m\n\u001b[1;32m---> 13\u001b[1;33m     \u001b[1;32mif\u001b[0m \u001b[1;33m(\u001b[0m\u001b[0mnow\u001b[0m\u001b[1;33m>=\u001b[0m\u001b[0mam_open\u001b[0m \u001b[1;32mand\u001b[0m \u001b[0mnow\u001b[0m\u001b[1;33m<=\u001b[0m\u001b[0mam_end\u001b[0m\u001b[1;33m)\u001b[0m \u001b[1;32mor\u001b[0m \u001b[1;33m(\u001b[0m\u001b[0mnow\u001b[0m\u001b[1;33m>=\u001b[0m\u001b[0mpm_open\u001b[0m \u001b[1;32mand\u001b[0m \u001b[0mnow\u001b[0m\u001b[1;33m<=\u001b[0m\u001b[0mpm_end\u001b[0m\u001b[1;33m)\u001b[0m\u001b[1;33m:\u001b[0m\u001b[1;33m\u001b[0m\u001b[0m\n\u001b[0m\u001b[0;32m     14\u001b[0m         \u001b[0madd_csv\u001b[0m\u001b[1;33m(\u001b[0m\u001b[1;34m'C://Users//User//ppro8//8306//'\u001b[0m\u001b[1;33m,\u001b[0m\u001b[1;34m'8306.JP'\u001b[0m\u001b[1;33m)\u001b[0m\u001b[1;33m\u001b[0m\u001b[0m\n",
      "\u001b[1;31mKeyboardInterrupt\u001b[0m: "
     ]
    }
   ],
   "source": [
    "am_open=datetime.today()\n",
    "am_open=am_open.replace( hour=8, minute=0, second=0, microsecond=0)\n",
    "am_end=datetime.today()\n",
    "am_end=am_end.replace( hour=10, minute=30, second=0, microsecond=0)\n",
    "\n",
    "pm_open=datetime.today()\n",
    "pm_open=pm_open.replace( hour=11, minute=30, second=0, microsecond=0)\n",
    "pm_end=datetime.today()\n",
    "pm_end=pm_end.replace( hour=14, minute=0, second=0, microsecond=0)\n",
    "\n",
    "while (now>=am_open and now<=am_end) or (now>=pm_open and now<=pm_end):\n",
    "        add_csv('C://Users//User//ppro8//8306//','8306.JP')"
   ]
  }
 ],
 "metadata": {
  "kernelspec": {
   "display_name": "Python 2",
   "language": "python",
   "name": "python2"
  },
  "language_info": {
   "codemirror_mode": {
    "name": "ipython",
    "version": 2
   },
   "file_extension": ".py",
   "mimetype": "text/x-python",
   "name": "python",
   "nbconvert_exporter": "python",
   "pygments_lexer": "ipython2",
   "version": "2.7.11"
  }
 },
 "nbformat": 4,
 "nbformat_minor": 0
}
