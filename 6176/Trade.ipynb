{
 "cells": [
  {
   "cell_type": "code",
   "execution_count": 1,
   "metadata": {
    "collapsed": true
   },
   "outputs": [],
   "source": [
    "import pandas as pd\n",
    "import numpy as np\n",
    "import datetime as dt\n",
    "from datetime import date\n",
    "import os\n",
    "from datetime import datetime\n",
    "import urllib2"
   ]
  },
  {
   "cell_type": "code",
   "execution_count": 2,
   "metadata": {
    "collapsed": false
   },
   "outputs": [],
   "source": [
    "df = pd.read_csv('C://Users//User//ppro8//HSI//04102016.csv')\n",
    "recent_price = df['price'][-100:].tolist()"
   ]
  },
  {
   "cell_type": "code",
   "execution_count": 2,
   "metadata": {
    "collapsed": true
   },
   "outputs": [],
   "source": [
    "def get_price(symbol):\n",
    "    url = 'http://localhost:2628/GetLv1?symbol='+symbol\n",
    "    response = urllib2.urlopen(url)\n",
    "    data = response.read()\n",
    "    price_point = data.find('LastPrice=\"')+len('LastPrice=\"')\n",
    "    price_end = data.find('\"',price_point)\n",
    "    current_price = data[price_point:price_end]\n",
    "    current_price = float(current_price)\n",
    "    \n",
    "    return current_price "
   ]
  },
  {
   "cell_type": "code",
   "execution_count": 11,
   "metadata": {
    "collapsed": false
   },
   "outputs": [],
   "source": [
    "def buy_singal(path,symbol):\n",
    "    df = pd.read_csv(path)\n",
    "    min_price = 0\n",
    "    df_last = df[-30:]\n",
    "    min_price = df_last.price.min()\n",
    "    \n",
    "    current_price = get_price(symbol)\n",
    "\n",
    "    \n",
    "    recent_price = df['price'][-30:].tolist()\n",
    "    if recent_price.count(min_price) > 1: \n",
    "        if current_price == min_price:\n",
    "            print min_price\n",
    "#    if recent_price.count(min_price) > 2: \n",
    "#        return True, min_price\n"
   ]
  },
  {
   "cell_type": "code",
   "execution_count": 13,
   "metadata": {
    "collapsed": false
   },
   "outputs": [],
   "source": [
    "buy_singal('C://Users//User//ppro8//HSI//04102016.csv','HSI\\V1628.HF')"
   ]
  },
  {
   "cell_type": "code",
   "execution_count": 32,
   "metadata": {
    "collapsed": false
   },
   "outputs": [],
   "source": [
    "def buy(path,symbol):\n",
    "    if buy_singal(path,symbol)!= None:\n",
    "        signal, buy_price = buy_singal(path,symbol)\n",
    "    signal = True\n",
    "    buy_price = 23640\n",
    "    buy_price = str(buy_price)\n",
    "    if signal == True:\n",
    "            url = 'http://localhost:2628/ExecuteOrder?symbol='+symbol+'&limitprice='+buy_price+\\\n",
    "'&ordername=HKFE%20Buy%20HKFE%20Limit%20DAY&shares=1'\n",
    "            response = urllib2.urlopen(url)\n",
    "            \n",
    "            "
   ]
  },
  {
   "cell_type": "code",
   "execution_count": 33,
   "metadata": {
    "collapsed": false
   },
   "outputs": [],
   "source": [
    "buy('C://Users//User//ppro8//HSI//04102016.csv','HSI\\V1628.HF')"
   ]
  },
  {
   "cell_type": "code",
   "execution_count": 5,
   "metadata": {
    "collapsed": true
   },
   "outputs": [],
   "source": [
    "def sell(symbol,price):\n",
    "    url = 'http://localhost:2628/ExecuteOrder?symbol='+symbol+'&limitprice='+price+\\\n",
    "    '&ordername=HKFE Sell HKFE Limit DAY&shares=1'\n",
    "    response = urllib2.urlopen(url)"
   ]
  },
  {
   "cell_type": "code",
   "execution_count": 6,
   "metadata": {
    "collapsed": true
   },
   "outputs": [],
   "source": [
    "def inventory(symbol):\n",
    "    url = 'http://localhost:2628/GetOpenPositions?user=CHIFCHAN'\n",
    "    response = urllib2.urlopen(url)\n",
    "    data = response.read()\n",
    "    if data.find(symbol) ==-1:\n",
    "        return False\n",
    "    else:\n",
    "        return True"
   ]
  },
  {
   "cell_type": "code",
   "execution_count": 7,
   "metadata": {
    "collapsed": false
   },
   "outputs": [],
   "source": [
    "price_record = 0\n",
    "def trade(path,symbol):\n",
    "    inventory(symbol)\n",
    "    if inventory == False:\n",
    "        global price_record\n",
    "        price_record = buy(path,symbol)\n",
    "            \n",
    "    if inventory == True:\n",
    "        current_price = get_price(symbol)\n",
    "        if price_record*0.995 >= current_price:\n",
    "            sell(symbol,current_price)\n",
    "        elif price_record*1.005 <= current_price:\n",
    "            sell(symbol,current_price)"
   ]
  },
  {
   "cell_type": "code",
   "execution_count": null,
   "metadata": {
    "collapsed": true
   },
   "outputs": [],
   "source": [
    "while True:\n",
    "    while True:\n",
    "        try:\n",
    "            trade('C://Users//User//ppro8//HSI//04102016.csv','HSI\\V1628.HF')\n",
    "        except:\n",
    "            pass\n",
    "        else:\n",
    "            break\n"
   ]
  }
 ],
 "metadata": {
  "kernelspec": {
   "display_name": "Python 2",
   "language": "python",
   "name": "python2"
  },
  "language_info": {
   "codemirror_mode": {
    "name": "ipython",
    "version": 2
   },
   "file_extension": ".py",
   "mimetype": "text/x-python",
   "name": "python",
   "nbconvert_exporter": "python",
   "pygments_lexer": "ipython2",
   "version": "2.7.11"
  }
 },
 "nbformat": 4,
 "nbformat_minor": 0
}
