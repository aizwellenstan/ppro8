{
 "cells": [
  {
   "cell_type": "code",
   "execution_count": 1,
   "metadata": {
    "collapsed": true
   },
   "outputs": [],
   "source": [
    "import pandas as pd\n",
    "import numpy as np\n",
    "import datetime as dt\n",
    "from time import time\n",
    "import matplotlib\n",
    "import matplotlib.pyplot as plt\n",
    "import matplotlib.dates as mdates\n",
    "import matplotlib.animation as animation\n",
    "from datetime import datetime\n",
    "from datetime import date\n",
    "from datetime import date, datetime, time, timedelta\n",
    "import matplotlib.pyplot as plt"
   ]
  },
  {
   "cell_type": "code",
   "execution_count": null,
   "metadata": {
    "collapsed": false
   },
   "outputs": [],
   "source": [
    "xar = []\n",
    "yar = []\n",
    "yar = df.price.tolist()\n",
    "tmp = df.time.tolist()\n",
    "for time in tmp:\n",
    "    try:\n",
    "        tmp_time = datetime.strptime(time, '%H:%M:%S.%f').time()\n",
    "    except ValueError:\n",
    "        tmp_time = datetime.strptime(time, '%H:%M:%S').time()    \n",
    "    xar.append(tmp_time)\n",
    "\n",
    "fig, ax1 = plt.subplots(figsize=(15, 10))\n",
    "\n",
    "y_begin = min(yar[1:])*0.999\n",
    "y_end = max(yar[1:])*1.001\n",
    "\n",
    "x_begin = xar[3]\n",
    "delta = dt.timedelta(minutes = 2)\n",
    "x_begin = ((dt.datetime.combine(dt.date(1,1,1),x_begin) - delta).time())\n",
    "\n",
    "x_end = xar[-1]\n",
    "delta = dt.timedelta(minutes = 2)\n",
    "x_end = ((dt.datetime.combine(dt.date(1,1,1),x_end) + delta).time())\n",
    "\n",
    "ax1.set_ylim([y_begin, y_end])\n",
    "ax1.set_xlim([x_begin, x_end])\n",
    "plt.subplots_adjust(left= 0.04, bottom= 0.1, right= 0.95, top= 0.95, wspace= 0, hspace= 0.1 )\n",
    "ax1.plot(xar,yar)\n",
    "plt.show()\n"
   ]
  },
  {
   "cell_type": "code",
   "execution_count": 30,
   "metadata": {
    "collapsed": false
   },
   "outputs": [
    {
     "data": {
      "text/plain": [
       "0    08:00:00.000001\n",
       "1    10:25:22.076000\n",
       "2    10:25:23.127000\n",
       "3    10:25:23.879000\n",
       "4    10:25:25.084000\n",
       "Name: time, dtype: object"
      ]
     },
     "execution_count": 30,
     "metadata": {},
     "output_type": "execute_result"
    }
   ],
   "source": [
    "df['time'].head()"
   ]
  },
  {
   "cell_type": "code",
   "execution_count": 2,
   "metadata": {
    "collapsed": false
   },
   "outputs": [],
   "source": [
    "def plot_stock(path,title_name):\n",
    "    \n",
    "    i = dt.datetime.now()\n",
    "    date = \"%02d%02d%02d\" % (i.day, i.month, i.year)\n",
    "    date = date +'.csv'\n",
    "    path = path + date\n",
    "    \n",
    "    df = pd.read_csv(path)\n",
    "    \n",
    "    ax = df.plot(title= title_name, fontsize= 10, figsize=(10,3))\n",
    "    ax.set_xlabel('Date', fontsize= 15)\n",
    "    ax.set_ylabel('Price', fontsize= 15)\n",
    "    \n",
    "\n",
    "    plt.subplots_adjust(left= 0.04, bottom= 0.1, right= 0.95, top= 0.95, wspace= 0, hspace= 0.1 )\n",
    "    plt.show()\n",
    "\n",
    "    plt.pause(0.0001)\n",
    "    plt.clf()\n",
    "    plt.close()"
   ]
  },
  {
   "cell_type": "code",
   "execution_count": null,
   "metadata": {
    "collapsed": false
   },
   "outputs": [],
   "source": [
    "import matplotlib.animation as animation\n",
    "import time\n",
    "\n",
    "fig, ax1 = plt.subplots(figsize=(15, 10))\n",
    "#fig = plt.figure(figsize=(15, 10))\n",
    "#ax1 = fig.add_subplot(1,1,1)\n",
    "plt.subplots_adjust(left= 0.05, bottom= 0.05, right= 0.99, top= 0.95, wspace= 0, hspace= 0.1 )\n",
    "ax1.ticklabel_format(useOffset=False, style='plain')\n",
    "\n",
    "def animate(i):\n",
    "    i = dt.datetime.now()\n",
    "    date = \"%02d%02d%02d\" % (i.day, i.month, i.year)\n",
    "    date = date +'.csv'   \n",
    "    df = pd.read_csv(date)\n",
    "    df = df.drop(df.index[[0]])\n",
    "    \n",
    "    xar = []\n",
    "    yar = []\n",
    "    yar = df.price.tolist()\n",
    "    tmp = df.time.tolist()\n",
    "\n",
    "\n",
    "    for time in tmp:\n",
    "        try:\n",
    "            tmp_time = datetime.strptime(time, '%H:%M:%S.%f').time()\n",
    "        except ValueError:\n",
    "            tmp_time = datetime.strptime(time, '%H:%M:%S').time()    \n",
    "        xar.append(tmp_time)\n",
    "        \n",
    "    \n",
    "    ax1.clear()\n",
    "    ax1.plot(xar,yar)\n",
    "    \n",
    "    y_begin = min(yar[1:])*0.999\n",
    "    y_end = max(yar[1:])*1.001\n",
    "    \n",
    "    x_begin = xar[-1]\n",
    "    delta = dt.timedelta(minutes = 10)\n",
    "    x_begin = ((dt.datetime.combine(dt.date(1,1,1),x_begin) - delta).time())\n",
    "    \n",
    "    x_end = xar[-1]\n",
    "    delta = dt.timedelta(minutes = 2)\n",
    "    x_end = ((dt.datetime.combine(dt.date(1,1,1),x_end) + delta).time())\n",
    "    \n",
    "    \n",
    "    ax1.set_ylim([y_begin, y_end])\n",
    "    ax1.set_xlim([x_begin, x_end])\n",
    "\n",
    "    \n",
    "    \n",
    "ani = animation.FuncAnimation(fig, animate, interval=1000)\n",
    "plt.show()\n",
    "\n"
   ]
  }
 ],
 "metadata": {
  "kernelspec": {
   "display_name": "Python 2",
   "language": "python",
   "name": "python2"
  },
  "language_info": {
   "codemirror_mode": {
    "name": "ipython",
    "version": 2
   },
   "file_extension": ".py",
   "mimetype": "text/x-python",
   "name": "python",
   "nbconvert_exporter": "python",
   "pygments_lexer": "ipython2",
   "version": "2.7.11"
  }
 },
 "nbformat": 4,
 "nbformat_minor": 0
}
